{
 "cells": [
  {
   "cell_type": "code",
   "execution_count": 1,
   "metadata": {},
   "outputs": [],
   "source": [
    "from fastai.vision.all import *\n",
    "import fastai\n",
    "import timm\n",
    "from wwf.vision.timm import *\n",
    "import pandas as pd"
   ]
  },
  {
   "cell_type": "code",
   "execution_count": 2,
   "metadata": {},
   "outputs": [],
   "source": [
    "import torch\n",
    "torch.cuda.set_device(0)"
   ]
  },
  {
   "cell_type": "code",
   "execution_count": 3,
   "metadata": {},
   "outputs": [],
   "source": [
    "df = pd.read_csv('data/wheat_new.csv',decimal=',')"
   ]
  },
  {
   "cell_type": "code",
   "execution_count": 4,
   "metadata": {},
   "outputs": [
    {
     "data": {
      "text/html": [
       "<div>\n",
       "<style scoped>\n",
       "    .dataframe tbody tr th:only-of-type {\n",
       "        vertical-align: middle;\n",
       "    }\n",
       "\n",
       "    .dataframe tbody tr th {\n",
       "        vertical-align: top;\n",
       "    }\n",
       "\n",
       "    .dataframe thead th {\n",
       "        text-align: right;\n",
       "    }\n",
       "</style>\n",
       "<table border=\"1\" class=\"dataframe\">\n",
       "  <thead>\n",
       "    <tr style=\"text-align: right;\">\n",
       "      <th></th>\n",
       "      <th>Unnamed: 0</th>\n",
       "      <th>file</th>\n",
       "      <th>DAS</th>\n",
       "      <th>plot nº</th>\n",
       "      <th>photo nº</th>\n",
       "      <th>species</th>\n",
       "      <th>water_treatment</th>\n",
       "      <th>management</th>\n",
       "      <th>plot m2</th>\n",
       "      <th>avg_water (L m-2)</th>\n",
       "      <th>...</th>\n",
       "      <th>P (kg microplot-1)</th>\n",
       "      <th>K (kg microplot-1)</th>\n",
       "      <th>avg_height</th>\n",
       "      <th>GA</th>\n",
       "      <th>GGA</th>\n",
       "      <th>CSI</th>\n",
       "      <th>NGRDIveg</th>\n",
       "      <th>TGIveg</th>\n",
       "      <th>final yield (kg)</th>\n",
       "      <th>dataset</th>\n",
       "    </tr>\n",
       "  </thead>\n",
       "  <tbody>\n",
       "    <tr>\n",
       "      <th>0</th>\n",
       "      <td>0</td>\n",
       "      <td>20220517_1 (1).JPG</td>\n",
       "      <td>96</td>\n",
       "      <td>1</td>\n",
       "      <td>(1).</td>\n",
       "      <td>wheat</td>\n",
       "      <td>ww</td>\n",
       "      <td>conv</td>\n",
       "      <td>12</td>\n",
       "      <td>3096.2375</td>\n",
       "      <td>...</td>\n",
       "      <td>0.072</td>\n",
       "      <td>0.072</td>\n",
       "      <td>46.9715</td>\n",
       "      <td>0.959407</td>\n",
       "      <td>0.904393</td>\n",
       "      <td>5.734098</td>\n",
       "      <td>0.1324</td>\n",
       "      <td>2569.2709</td>\n",
       "      <td>9.15</td>\n",
       "      <td>train</td>\n",
       "    </tr>\n",
       "    <tr>\n",
       "      <th>1</th>\n",
       "      <td>1</td>\n",
       "      <td>20220517_1 (2).JPG</td>\n",
       "      <td>96</td>\n",
       "      <td>1</td>\n",
       "      <td>(2).</td>\n",
       "      <td>wheat</td>\n",
       "      <td>ww</td>\n",
       "      <td>conv</td>\n",
       "      <td>12</td>\n",
       "      <td>3096.2375</td>\n",
       "      <td>...</td>\n",
       "      <td>0.072</td>\n",
       "      <td>0.072</td>\n",
       "      <td>46.9715</td>\n",
       "      <td>0.963030</td>\n",
       "      <td>0.905523</td>\n",
       "      <td>5.971505</td>\n",
       "      <td>0.1316</td>\n",
       "      <td>2648.0105</td>\n",
       "      <td>9.15</td>\n",
       "      <td>train</td>\n",
       "    </tr>\n",
       "    <tr>\n",
       "      <th>2</th>\n",
       "      <td>2</td>\n",
       "      <td>20220517_1 (3).JPG</td>\n",
       "      <td>96</td>\n",
       "      <td>1</td>\n",
       "      <td>(3).</td>\n",
       "      <td>wheat</td>\n",
       "      <td>ww</td>\n",
       "      <td>conv</td>\n",
       "      <td>12</td>\n",
       "      <td>3096.2375</td>\n",
       "      <td>...</td>\n",
       "      <td>0.072</td>\n",
       "      <td>0.072</td>\n",
       "      <td>46.9715</td>\n",
       "      <td>0.953708</td>\n",
       "      <td>0.898722</td>\n",
       "      <td>5.765430</td>\n",
       "      <td>0.1331</td>\n",
       "      <td>2736.4337</td>\n",
       "      <td>9.15</td>\n",
       "      <td>train</td>\n",
       "    </tr>\n",
       "    <tr>\n",
       "      <th>3</th>\n",
       "      <td>3</td>\n",
       "      <td>20220517_1 (4).JPG</td>\n",
       "      <td>96</td>\n",
       "      <td>1</td>\n",
       "      <td>(4).</td>\n",
       "      <td>wheat</td>\n",
       "      <td>ww</td>\n",
       "      <td>conv</td>\n",
       "      <td>12</td>\n",
       "      <td>3096.2375</td>\n",
       "      <td>...</td>\n",
       "      <td>0.072</td>\n",
       "      <td>0.072</td>\n",
       "      <td>46.9715</td>\n",
       "      <td>0.957117</td>\n",
       "      <td>0.898772</td>\n",
       "      <td>6.095965</td>\n",
       "      <td>0.1267</td>\n",
       "      <td>2550.8238</td>\n",
       "      <td>9.15</td>\n",
       "      <td>train</td>\n",
       "    </tr>\n",
       "    <tr>\n",
       "      <th>4</th>\n",
       "      <td>4</td>\n",
       "      <td>20220602_1 (1).JPG</td>\n",
       "      <td>112</td>\n",
       "      <td>1</td>\n",
       "      <td>(1).</td>\n",
       "      <td>wheat</td>\n",
       "      <td>ww</td>\n",
       "      <td>conv</td>\n",
       "      <td>12</td>\n",
       "      <td>3096.2375</td>\n",
       "      <td>...</td>\n",
       "      <td>0.072</td>\n",
       "      <td>0.072</td>\n",
       "      <td>46.9715</td>\n",
       "      <td>0.892348</td>\n",
       "      <td>0.791199</td>\n",
       "      <td>11.335180</td>\n",
       "      <td>0.1008</td>\n",
       "      <td>1880.2128</td>\n",
       "      <td>9.15</td>\n",
       "      <td>train</td>\n",
       "    </tr>\n",
       "    <tr>\n",
       "      <th>...</th>\n",
       "      <td>...</td>\n",
       "      <td>...</td>\n",
       "      <td>...</td>\n",
       "      <td>...</td>\n",
       "      <td>...</td>\n",
       "      <td>...</td>\n",
       "      <td>...</td>\n",
       "      <td>...</td>\n",
       "      <td>...</td>\n",
       "      <td>...</td>\n",
       "      <td>...</td>\n",
       "      <td>...</td>\n",
       "      <td>...</td>\n",
       "      <td>...</td>\n",
       "      <td>...</td>\n",
       "      <td>...</td>\n",
       "      <td>...</td>\n",
       "      <td>...</td>\n",
       "      <td>...</td>\n",
       "      <td>...</td>\n",
       "      <td>...</td>\n",
       "    </tr>\n",
       "    <tr>\n",
       "      <th>251</th>\n",
       "      <td>251</td>\n",
       "      <td>20220615_25 (4).JPG</td>\n",
       "      <td>125</td>\n",
       "      <td>25</td>\n",
       "      <td>(4).</td>\n",
       "      <td>wheat</td>\n",
       "      <td>d</td>\n",
       "      <td>conv</td>\n",
       "      <td>12</td>\n",
       "      <td>2752.8000</td>\n",
       "      <td>...</td>\n",
       "      <td>0.072</td>\n",
       "      <td>0.072</td>\n",
       "      <td>55.2110</td>\n",
       "      <td>0.788544</td>\n",
       "      <td>0.323428</td>\n",
       "      <td>58.984136</td>\n",
       "      <td>0.0491</td>\n",
       "      <td>2277.6824</td>\n",
       "      <td>7.95</td>\n",
       "      <td>test</td>\n",
       "    </tr>\n",
       "    <tr>\n",
       "      <th>252</th>\n",
       "      <td>252</td>\n",
       "      <td>20220701_25 (1).JPG</td>\n",
       "      <td>141</td>\n",
       "      <td>25</td>\n",
       "      <td>(1).</td>\n",
       "      <td>wheat</td>\n",
       "      <td>d</td>\n",
       "      <td>conv</td>\n",
       "      <td>12</td>\n",
       "      <td>2752.8000</td>\n",
       "      <td>...</td>\n",
       "      <td>0.072</td>\n",
       "      <td>0.072</td>\n",
       "      <td>55.2110</td>\n",
       "      <td>0.031868</td>\n",
       "      <td>0.009072</td>\n",
       "      <td>71.532905</td>\n",
       "      <td>0.0342</td>\n",
       "      <td>946.1760</td>\n",
       "      <td>7.95</td>\n",
       "      <td>test</td>\n",
       "    </tr>\n",
       "    <tr>\n",
       "      <th>253</th>\n",
       "      <td>253</td>\n",
       "      <td>20220701_25 (2).JPG</td>\n",
       "      <td>141</td>\n",
       "      <td>25</td>\n",
       "      <td>(2).</td>\n",
       "      <td>wheat</td>\n",
       "      <td>d</td>\n",
       "      <td>conv</td>\n",
       "      <td>12</td>\n",
       "      <td>2752.8000</td>\n",
       "      <td>...</td>\n",
       "      <td>0.072</td>\n",
       "      <td>0.072</td>\n",
       "      <td>55.2110</td>\n",
       "      <td>0.025828</td>\n",
       "      <td>0.006849</td>\n",
       "      <td>73.483356</td>\n",
       "      <td>0.0314</td>\n",
       "      <td>867.4491</td>\n",
       "      <td>7.95</td>\n",
       "      <td>test</td>\n",
       "    </tr>\n",
       "    <tr>\n",
       "      <th>254</th>\n",
       "      <td>254</td>\n",
       "      <td>20220701_25 (3).JPG</td>\n",
       "      <td>141</td>\n",
       "      <td>25</td>\n",
       "      <td>(3).</td>\n",
       "      <td>wheat</td>\n",
       "      <td>d</td>\n",
       "      <td>conv</td>\n",
       "      <td>12</td>\n",
       "      <td>2752.8000</td>\n",
       "      <td>...</td>\n",
       "      <td>0.072</td>\n",
       "      <td>0.072</td>\n",
       "      <td>55.2110</td>\n",
       "      <td>0.022065</td>\n",
       "      <td>0.004773</td>\n",
       "      <td>78.367629</td>\n",
       "      <td>0.0196</td>\n",
       "      <td>855.3556</td>\n",
       "      <td>7.95</td>\n",
       "      <td>test</td>\n",
       "    </tr>\n",
       "    <tr>\n",
       "      <th>255</th>\n",
       "      <td>255</td>\n",
       "      <td>20220701_25 (4).JPG</td>\n",
       "      <td>141</td>\n",
       "      <td>25</td>\n",
       "      <td>(4).</td>\n",
       "      <td>wheat</td>\n",
       "      <td>d</td>\n",
       "      <td>conv</td>\n",
       "      <td>12</td>\n",
       "      <td>2752.8000</td>\n",
       "      <td>...</td>\n",
       "      <td>0.072</td>\n",
       "      <td>0.072</td>\n",
       "      <td>55.2110</td>\n",
       "      <td>0.026765</td>\n",
       "      <td>0.007124</td>\n",
       "      <td>73.384338</td>\n",
       "      <td>0.0265</td>\n",
       "      <td>979.4368</td>\n",
       "      <td>7.95</td>\n",
       "      <td>test</td>\n",
       "    </tr>\n",
       "  </tbody>\n",
       "</table>\n",
       "<p>256 rows × 21 columns</p>\n",
       "</div>"
      ],
      "text/plain": [
       "     Unnamed: 0                 file  DAS  plot nº photo nº species  \\\n",
       "0             0   20220517_1 (1).JPG   96        1     (1).   wheat   \n",
       "1             1   20220517_1 (2).JPG   96        1     (2).   wheat   \n",
       "2             2   20220517_1 (3).JPG   96        1     (3).   wheat   \n",
       "3             3   20220517_1 (4).JPG   96        1     (4).   wheat   \n",
       "4             4   20220602_1 (1).JPG  112        1     (1).   wheat   \n",
       "..          ...                  ...  ...      ...      ...     ...   \n",
       "251         251  20220615_25 (4).JPG  125       25     (4).   wheat   \n",
       "252         252  20220701_25 (1).JPG  141       25     (1).   wheat   \n",
       "253         253  20220701_25 (2).JPG  141       25     (2).   wheat   \n",
       "254         254  20220701_25 (3).JPG  141       25     (3).   wheat   \n",
       "255         255  20220701_25 (4).JPG  141       25     (4).   wheat   \n",
       "\n",
       "    water_treatment management  plot m2  avg_water (L m-2)  ...  \\\n",
       "0                ww       conv       12          3096.2375  ...   \n",
       "1                ww       conv       12          3096.2375  ...   \n",
       "2                ww       conv       12          3096.2375  ...   \n",
       "3                ww       conv       12          3096.2375  ...   \n",
       "4                ww       conv       12          3096.2375  ...   \n",
       "..              ...        ...      ...                ...  ...   \n",
       "251               d       conv       12          2752.8000  ...   \n",
       "252               d       conv       12          2752.8000  ...   \n",
       "253               d       conv       12          2752.8000  ...   \n",
       "254               d       conv       12          2752.8000  ...   \n",
       "255               d       conv       12          2752.8000  ...   \n",
       "\n",
       "     P (kg microplot-1)  K (kg microplot-1)  avg_height        GA       GGA  \\\n",
       "0                 0.072               0.072     46.9715  0.959407  0.904393   \n",
       "1                 0.072               0.072     46.9715  0.963030  0.905523   \n",
       "2                 0.072               0.072     46.9715  0.953708  0.898722   \n",
       "3                 0.072               0.072     46.9715  0.957117  0.898772   \n",
       "4                 0.072               0.072     46.9715  0.892348  0.791199   \n",
       "..                  ...                 ...         ...       ...       ...   \n",
       "251               0.072               0.072     55.2110  0.788544  0.323428   \n",
       "252               0.072               0.072     55.2110  0.031868  0.009072   \n",
       "253               0.072               0.072     55.2110  0.025828  0.006849   \n",
       "254               0.072               0.072     55.2110  0.022065  0.004773   \n",
       "255               0.072               0.072     55.2110  0.026765  0.007124   \n",
       "\n",
       "           CSI  NGRDIveg     TGIveg  final yield (kg)  dataset  \n",
       "0     5.734098    0.1324  2569.2709              9.15    train  \n",
       "1     5.971505    0.1316  2648.0105              9.15    train  \n",
       "2     5.765430    0.1331  2736.4337              9.15    train  \n",
       "3     6.095965    0.1267  2550.8238              9.15    train  \n",
       "4    11.335180    0.1008  1880.2128              9.15    train  \n",
       "..         ...       ...        ...               ...      ...  \n",
       "251  58.984136    0.0491  2277.6824              7.95     test  \n",
       "252  71.532905    0.0342   946.1760              7.95     test  \n",
       "253  73.483356    0.0314   867.4491              7.95     test  \n",
       "254  78.367629    0.0196   855.3556              7.95     test  \n",
       "255  73.384338    0.0265   979.4368              7.95     test  \n",
       "\n",
       "[256 rows x 21 columns]"
      ]
     },
     "execution_count": 4,
     "metadata": {},
     "output_type": "execute_result"
    }
   ],
   "source": [
    "df"
   ]
  },
  {
   "cell_type": "code",
   "execution_count": 5,
   "metadata": {},
   "outputs": [
    {
     "data": {
      "text/plain": [
       "array(['conv', 'eco'], dtype=object)"
      ]
     },
     "execution_count": 5,
     "metadata": {},
     "output_type": "execute_result"
    }
   ],
   "source": [
    "np.unique(df['management'])"
   ]
  },
  {
   "cell_type": "code",
   "execution_count": 6,
   "metadata": {},
   "outputs": [],
   "source": [
    "dftrain = df[(df.dataset=='train')|(df.dataset=='validation')]\n",
    "dftrain.loc[:,'dataset'] =  dftrain['dataset'].apply(lambda x: x=='validation')\n",
    "df.loc[:,'dataset'] =  df['dataset'].apply(lambda x: x=='test')"
   ]
  },
  {
   "cell_type": "code",
   "execution_count": 7,
   "metadata": {},
   "outputs": [
    {
     "data": {
      "text/plain": [
       "Index(['Unnamed: 0', 'file', 'DAS', 'plot nº', 'photo nº', 'species',\n",
       "       'water_treatment', 'management', 'plot m2', 'avg_water (L m-2)',\n",
       "       'N (kg microplot-1)', 'P (kg microplot-1)', 'K (kg microplot-1)',\n",
       "       'avg_height', 'GA', 'GGA', 'CSI', 'NGRDIveg', 'TGIveg',\n",
       "       'final yield (kg)', 'dataset'],\n",
       "      dtype='object')"
      ]
     },
     "execution_count": 7,
     "metadata": {},
     "output_type": "execute_result"
    }
   ],
   "source": [
    "dftrain.columns"
   ]
  },
  {
   "cell_type": "code",
   "execution_count": 8,
   "metadata": {},
   "outputs": [],
   "source": [
    "db = DataBlock(blocks = (ImageBlock,\n",
    "                         RegressionBlock(),RegressionBlock(),RegressionBlock(),RegressionBlock(),\n",
    "                         RegressionBlock(),RegressionBlock(),RegressionBlock()),\n",
    "                 get_x=[ColReader('file',pref='wheat_all/'),\n",
    "                    \n",
    "                        ],\n",
    "                 get_y=[#ColReader('species'),\n",
    "                        #ColReader('water_treatment'),\n",
    "                        #ColReader('management'),\n",
    "                        ColReader('plot m2'),\n",
    "                        ColReader('avg_height'),\n",
    "                        ColReader('avg_water (L m-2)'),\n",
    "                        ColReader('N (kg microplot-1)'),\n",
    "                        ColReader('P (kg microplot-1)'),\n",
    "                        ColReader('K (kg microplot-1)'),\n",
    "                        ColReader('final yield (kg)')],\n",
    "                        # ColReader('GA'),\n",
    "                        # ColReader('GGA'),\n",
    "                        # ColReader('CSI'),\n",
    "                        # ColReader('NGRDIveg'),\n",
    "                        # ColReader('TGIveg')\n",
    "                 splitter=ColSplitter(col='dataset'),    \n",
    "                 item_tfms = Resize(640),\n",
    "                 batch_tfms=[*aug_transforms(size=512,flip_vert=True,\n",
    "                                            max_zoom=1.0), Normalize.from_stats(*imagenet_stats)],\n",
    "               n_inp=1)\n",
    "dls = db.dataloaders(dftrain,bs=4)\n"
   ]
  },
  {
   "cell_type": "code",
   "execution_count": 9,
   "metadata": {},
   "outputs": [],
   "source": [
    "from fastai.vision.all import *\n",
    "callbacks = [\n",
    "    ShowGraphCallback(),\n",
    "    # EarlyStoppingCallback(patience=5),\n",
    "    SaveModelCallback(fname='resnet_yield_all_plain_WNPK_output'),\n",
    "    ReduceLROnPlateau()\n",
    "]"
   ]
  },
  {
   "cell_type": "code",
   "execution_count": 10,
   "metadata": {},
   "outputs": [],
   "source": [
    "class MultiInputModel(Module):\n",
    "  \"A three-headed model given a `body` and `n` output features\"\n",
    "  def __init__(self, body:nn.Sequential):\n",
    "    nf = num_features_model(nn.Sequential(*body.children()))\n",
    "    self.body = body\n",
    "    #self.water_treatment = create_head(nf, 4)\n",
    "    #self.management = create_head(nf, 2)\n",
    "    self.avg_water = create_head(nf,1)\n",
    "    self.n = create_head(nf,1)\n",
    "    self.p = create_head(nf,1)\n",
    "    self.k = create_head(nf,1)\n",
    "    self.avg_height = create_head(nf,1)\n",
    "    self.ga = create_head(nf,1)\n",
    "    self.gga = create_head(nf,1)\n",
    "    self.csi = create_head(nf,1)\n",
    "    self.NGRDIveg = create_head(nf,1)\n",
    "    self.TGIveg = create_head(nf,1)\n",
    "    self.yieldprod = create_head(nf,1)\n",
    "\n",
    "    \n",
    "    \n",
    "  \n",
    "  def forward(self, x):\n",
    "    y = self.body(x)\n",
    "    return [\n",
    "        #self.water_treatment(y),\n",
    "        #self.management(y),\n",
    "        self.avg_water(y),\n",
    "        self.n(y),\n",
    "        self.p(y),\n",
    "        self.k(y),\n",
    "        self.avg_height(y),\n",
    "        self.ga(y),\n",
    "        self.gga(y),\n",
    "        self.csi(y),\n",
    "        self.NGRDIveg(y),\n",
    "        self.TGIveg(y),\n",
    "        self.yieldprod(y)]"
   ]
  },
  {
   "cell_type": "code",
   "execution_count": 11,
   "metadata": {},
   "outputs": [],
   "source": [
    "body = create_timm_body('resnet50', pretrained=True)\n",
    "# body = create_body(resnet50, pretrained=True)\n",
    "net = MultiInputModel(body)"
   ]
  },
  {
   "cell_type": "code",
   "execution_count": 12,
   "metadata": {},
   "outputs": [],
   "source": [
    "from fastai.metrics import mae,rmse,mse"
   ]
  },
  {
   "cell_type": "code",
   "execution_count": 13,
   "metadata": {},
   "outputs": [],
   "source": [
    "class CombinationLoss(Module):\n",
    "    \"Cross Entropy Loss on multiple targets\"\n",
    "    def __init__(self, func1=F.cross_entropy,func2=F.mse_loss, weights=[2, 1]):\n",
    "        self.func1, self.func2, self.w = func2, func2, weights\n",
    "\n",
    "    def forward(self, xs, *ys, reduction='mean'):\n",
    "        res = self.func2(ys[0],torch.reshape(xs[0],(4,1)))\n",
    "        for i in range(1,6):\n",
    "            res = res + self.func2(ys[i],torch.reshape(xs[i],(4,1)))\n",
    "        res = res + self.func2(ys[6],torch.reshape(xs[6],(4,1)))\n",
    "        return res\n",
    "    \n",
    "#         for i, w, x, y in zip(range(len(xs)), self.w, xs, ys):\n",
    "#             print(x[1])\n",
    "#             print(y[1])\n",
    "#             if i == 0: loss = self.func2(x[1], y[1], reduction=reduction) \n",
    "#             else: loss += self.func2(x[1], y[1], reduction=reduction) \n",
    "        \n",
    "#         return loss"
   ]
  },
  {
   "cell_type": "code",
   "execution_count": 14,
   "metadata": {},
   "outputs": [],
   "source": [
    "learn = Learner(dls, net, loss_func=CombinationLoss(),cbs=callbacks)"
   ]
  },
  {
   "cell_type": "code",
   "execution_count": 15,
   "metadata": {},
   "outputs": [],
   "source": [
    "# learn.lr_find()"
   ]
  },
  {
   "cell_type": "code",
   "execution_count": 16,
   "metadata": {},
   "outputs": [],
   "source": [
    "learn.freeze()"
   ]
  },
  {
   "cell_type": "code",
   "execution_count": 17,
   "metadata": {},
   "outputs": [
    {
     "data": {
      "text/html": [
       "\n",
       "<style>\n",
       "    /* Turns off some styling */\n",
       "    progress {\n",
       "        /* gets rid of default border in Firefox and Opera. */\n",
       "        border: none;\n",
       "        /* Needs to be in here for Safari polyfill so background images work as expected. */\n",
       "        background-size: auto;\n",
       "    }\n",
       "    progress:not([value]), progress:not([value])::-webkit-progress-bar {\n",
       "        background: repeating-linear-gradient(45deg, #7e7e7e, #7e7e7e 10px, #5c5c5c 10px, #5c5c5c 20px);\n",
       "    }\n",
       "    .progress-bar-interrupted, .progress-bar-interrupted::-webkit-progress-bar {\n",
       "        background: #F44336;\n",
       "    }\n",
       "</style>\n"
      ],
      "text/plain": [
       "<IPython.core.display.HTML object>"
      ]
     },
     "metadata": {},
     "output_type": "display_data"
    },
    {
     "data": {
      "text/html": [
       "<table border=\"1\" class=\"dataframe\">\n",
       "  <thead>\n",
       "    <tr style=\"text-align: left;\">\n",
       "      <th>epoch</th>\n",
       "      <th>train_loss</th>\n",
       "      <th>valid_loss</th>\n",
       "      <th>time</th>\n",
       "    </tr>\n",
       "  </thead>\n",
       "  <tbody>\n",
       "    <tr>\n",
       "      <td>0</td>\n",
       "      <td>8144446.000000</td>\n",
       "      <td>9424097.000000</td>\n",
       "      <td>00:16</td>\n",
       "    </tr>\n",
       "  </tbody>\n",
       "</table>"
      ],
      "text/plain": [
       "<IPython.core.display.HTML object>"
      ]
     },
     "metadata": {},
     "output_type": "display_data"
    },
    {
     "name": "stderr",
     "output_type": "stream",
     "text": [
      "/home/joheras/.conda/envs/python38/lib/python3.8/site-packages/torch/_tensor.py:1279: UserWarning: Using a target size (torch.Size([4, 1])) that is different to the input size (torch.Size([4])). This will likely lead to incorrect results due to broadcasting. Please ensure they have the same size.\n",
      "  ret = func(*args, **kwargs)\n"
     ]
    },
    {
     "name": "stdout",
     "output_type": "stream",
     "text": [
      "Better model found at epoch 0 with valid_loss value: 9424097.0.\n"
     ]
    },
    {
     "data": {
      "image/png": "[encoded data removed]",
      "text/plain": [
       "<Figure size 600x400 with 1 Axes>"
      ]
     },
     "metadata": {},
     "output_type": "display_data"
    },
    {
     "data": {
      "text/html": [
       "\n",
       "<style>\n",
       "    /* Turns off some styling */\n",
       "    progress {\n",
       "        /* gets rid of default border in Firefox and Opera. */\n",
       "        border: none;\n",
       "        /* Needs to be in here for Safari polyfill so background images work as expected. */\n",
       "        background-size: auto;\n",
       "    }\n",
       "    progress:not([value]), progress:not([value])::-webkit-progress-bar {\n",
       "        background: repeating-linear-gradient(45deg, #7e7e7e, #7e7e7e 10px, #5c5c5c 10px, #5c5c5c 20px);\n",
       "    }\n",
       "    .progress-bar-interrupted, .progress-bar-interrupted::-webkit-progress-bar {\n",
       "        background: #F44336;\n",
       "    }\n",
       "</style>\n"
      ],
      "text/plain": [
       "<IPython.core.display.HTML object>"
      ]
     },
     "metadata": {},
     "output_type": "display_data"
    },
    {
     "data": {
      "text/html": [
       "<table border=\"1\" class=\"dataframe\">\n",
       "  <thead>\n",
       "    <tr style=\"text-align: left;\">\n",
       "      <th>epoch</th>\n",
       "      <th>train_loss</th>\n",
       "      <th>valid_loss</th>\n",
       "      <th>time</th>\n",
       "    </tr>\n",
       "  </thead>\n",
       "  <tbody>\n",
       "    <tr>\n",
       "      <td>0</td>\n",
       "      <td>8131616.000000</td>\n",
       "      <td>9424438.000000</td>\n",
       "      <td>00:16</td>\n",
       "    </tr>\n",
       "    <tr>\n",
       "      <td>1</td>\n",
       "      <td>8148923.000000</td>\n",
       "      <td>9423763.000000</td>\n",
       "      <td>00:16</td>\n",
       "    </tr>\n",
       "    <tr>\n",
       "      <td>2</td>\n",
       "      <td>8151871.000000</td>\n",
       "      <td>9423370.000000</td>\n",
       "      <td>00:16</td>\n",
       "    </tr>\n",
       "    <tr>\n",
       "      <td>3</td>\n",
       "      <td>8142966.500000</td>\n",
       "      <td>9423239.000000</td>\n",
       "      <td>00:16</td>\n",
       "    </tr>\n",
       "    <tr>\n",
       "      <td>4</td>\n",
       "      <td>8145855.500000</td>\n",
       "      <td>9422758.000000</td>\n",
       "      <td>00:16</td>\n",
       "    </tr>\n",
       "    <tr>\n",
       "      <td>5</td>\n",
       "      <td>8137936.000000</td>\n",
       "      <td>9421272.000000</td>\n",
       "      <td>00:16</td>\n",
       "    </tr>\n",
       "    <tr>\n",
       "      <td>6</td>\n",
       "      <td>8152820.500000</td>\n",
       "      <td>9418297.000000</td>\n",
       "      <td>00:15</td>\n",
       "    </tr>\n",
       "    <tr>\n",
       "      <td>7</td>\n",
       "      <td>8132070.000000</td>\n",
       "      <td>9415214.000000</td>\n",
       "      <td>00:16</td>\n",
       "    </tr>\n",
       "    <tr>\n",
       "      <td>8</td>\n",
       "      <td>8142364.500000</td>\n",
       "      <td>9413949.000000</td>\n",
       "      <td>00:16</td>\n",
       "    </tr>\n",
       "    <tr>\n",
       "      <td>9</td>\n",
       "      <td>8146658.500000</td>\n",
       "      <td>9408624.000000</td>\n",
       "      <td>00:16</td>\n",
       "    </tr>\n",
       "    <tr>\n",
       "      <td>10</td>\n",
       "      <td>8151918.000000</td>\n",
       "      <td>9403550.000000</td>\n",
       "      <td>00:16</td>\n",
       "    </tr>\n",
       "    <tr>\n",
       "      <td>11</td>\n",
       "      <td>8132956.500000</td>\n",
       "      <td>9397861.000000</td>\n",
       "      <td>00:17</td>\n",
       "    </tr>\n",
       "    <tr>\n",
       "      <td>12</td>\n",
       "      <td>8123613.500000</td>\n",
       "      <td>9387266.000000</td>\n",
       "      <td>00:16</td>\n",
       "    </tr>\n",
       "    <tr>\n",
       "      <td>13</td>\n",
       "      <td>8108864.500000</td>\n",
       "      <td>9382448.000000</td>\n",
       "      <td>00:16</td>\n",
       "    </tr>\n",
       "    <tr>\n",
       "      <td>14</td>\n",
       "      <td>8092717.000000</td>\n",
       "      <td>9370229.000000</td>\n",
       "      <td>00:15</td>\n",
       "    </tr>\n",
       "    <tr>\n",
       "      <td>15</td>\n",
       "      <td>8095664.000000</td>\n",
       "      <td>9360256.000000</td>\n",
       "      <td>00:16</td>\n",
       "    </tr>\n",
       "    <tr>\n",
       "      <td>16</td>\n",
       "      <td>8092626.000000</td>\n",
       "      <td>9349822.000000</td>\n",
       "      <td>00:16</td>\n",
       "    </tr>\n",
       "    <tr>\n",
       "      <td>17</td>\n",
       "      <td>8066335.000000</td>\n",
       "      <td>9339974.000000</td>\n",
       "      <td>00:16</td>\n",
       "    </tr>\n",
       "    <tr>\n",
       "      <td>18</td>\n",
       "      <td>8073924.500000</td>\n",
       "      <td>9331101.000000</td>\n",
       "      <td>00:16</td>\n",
       "    </tr>\n",
       "    <tr>\n",
       "      <td>19</td>\n",
       "      <td>8076082.000000</td>\n",
       "      <td>9323994.000000</td>\n",
       "      <td>00:15</td>\n",
       "    </tr>\n",
       "    <tr>\n",
       "      <td>20</td>\n",
       "      <td>8063475.000000</td>\n",
       "      <td>9316113.000000</td>\n",
       "      <td>00:15</td>\n",
       "    </tr>\n",
       "    <tr>\n",
       "      <td>21</td>\n",
       "      <td>8055099.500000</td>\n",
       "      <td>9310214.000000</td>\n",
       "      <td>00:16</td>\n",
       "    </tr>\n",
       "    <tr>\n",
       "      <td>22</td>\n",
       "      <td>8055871.500000</td>\n",
       "      <td>9305651.000000</td>\n",
       "      <td>00:16</td>\n",
       "    </tr>\n",
       "    <tr>\n",
       "      <td>23</td>\n",
       "      <td>8028207.000000</td>\n",
       "      <td>9301744.000000</td>\n",
       "      <td>00:16</td>\n",
       "    </tr>\n",
       "    <tr>\n",
       "      <td>24</td>\n",
       "      <td>8031154.000000</td>\n",
       "      <td>9296678.000000</td>\n",
       "      <td>00:15</td>\n",
       "    </tr>\n",
       "    <tr>\n",
       "      <td>25</td>\n",
       "      <td>8029516.000000</td>\n",
       "      <td>9296854.000000</td>\n",
       "      <td>00:16</td>\n",
       "    </tr>\n",
       "    <tr>\n",
       "      <td>26</td>\n",
       "      <td>8038032.000000</td>\n",
       "      <td>9295169.000000</td>\n",
       "      <td>00:16</td>\n",
       "    </tr>\n",
       "    <tr>\n",
       "      <td>27</td>\n",
       "      <td>8039256.000000</td>\n",
       "      <td>9293745.000000</td>\n",
       "      <td>00:16</td>\n",
       "    </tr>\n",
       "    <tr>\n",
       "      <td>28</td>\n",
       "      <td>8026707.500000</td>\n",
       "      <td>9296232.000000</td>\n",
       "      <td>00:14</td>\n",
       "    </tr>\n",
       "    <tr>\n",
       "      <td>29</td>\n",
       "      <td>8016638.000000</td>\n",
       "      <td>9294887.000000</td>\n",
       "      <td>00:14</td>\n",
       "    </tr>\n",
       "  </tbody>\n",
       "</table>"
      ],
      "text/plain": [
       "<IPython.core.display.HTML object>"
      ]
     },
     "metadata": {},
     "output_type": "display_data"
    },
    {
     "name": "stdout",
     "output_type": "stream",
     "text": [
      "Better model found at epoch 0 with valid_loss value: 9424438.0.\n"
     ]
    },
    {
     "data": {
      "image/png": "[encoded data removed]",
      "text/plain": [
       "<Figure size 600x400 with 1 Axes>"
      ]
     },
     "metadata": {},
     "output_type": "display_data"
    },
    {
     "name": "stdout",
     "output_type": "stream",
     "text": [
      "Better model found at epoch 1 with valid_loss value: 9423763.0.\n",
      "Better model found at epoch 2 with valid_loss value: 9423370.0.\n",
      "Better model found at epoch 3 with valid_loss value: 9423239.0.\n",
      "Better model found at epoch 4 with valid_loss value: 9422758.0.\n",
      "Better model found at epoch 5 with valid_loss value: 9421272.0.\n",
      "Better model found at epoch 6 with valid_loss value: 9418297.0.\n",
      "Better model found at epoch 7 with valid_loss value: 9415214.0.\n",
      "Better model found at epoch 8 with valid_loss value: 9413949.0.\n",
      "Better model found at epoch 9 with valid_loss value: 9408624.0.\n",
      "Better model found at epoch 10 with valid_loss value: 9403550.0.\n",
      "Better model found at epoch 11 with valid_loss value: 9397861.0.\n",
      "Better model found at epoch 12 with valid_loss value: 9387266.0.\n",
      "Better model found at epoch 13 with valid_loss value: 9382448.0.\n",
      "Better model found at epoch 14 with valid_loss value: 9370229.0.\n",
      "Better model found at epoch 15 with valid_loss value: 9360256.0.\n",
      "Better model found at epoch 16 with valid_loss value: 9349822.0.\n",
      "Better model found at epoch 17 with valid_loss value: 9339974.0.\n",
      "Better model found at epoch 18 with valid_loss value: 9331101.0.\n",
      "Better model found at epoch 19 with valid_loss value: 9323994.0.\n",
      "Better model found at epoch 20 with valid_loss value: 9316113.0.\n",
      "Better model found at epoch 21 with valid_loss value: 9310214.0.\n",
      "Better model found at epoch 22 with valid_loss value: 9305651.0.\n",
      "Better model found at epoch 23 with valid_loss value: 9301744.0.\n",
      "Better model found at epoch 24 with valid_loss value: 9296678.0.\n",
      "Epoch 25: reducing lr to 4.39730113922927e-06\n",
      "Better model found at epoch 26 with valid_loss value: 9295169.0.\n",
      "Better model found at epoch 27 with valid_loss value: 9293745.0.\n",
      "Epoch 28: reducing lr to 2.938354584204302e-07\n",
      "Epoch 29: reducing lr to 6.748443976811042e-10\n"
     ]
    }
   ],
   "source": [
    "learn.fine_tune(30,base_lr=1e-3)"
   ]
  },
  {
   "cell_type": "code",
   "execution_count": 18,
   "metadata": {},
   "outputs": [],
   "source": [
    "dls = db.dataloaders(df,bs=4)"
   ]
  },
  {
   "cell_type": "code",
   "execution_count": 19,
   "metadata": {},
   "outputs": [],
   "source": [
    "learn.dls=dls"
   ]
  },
  {
   "cell_type": "code",
   "execution_count": 20,
   "metadata": {},
   "outputs": [
    {
     "data": {
      "text/html": [
       "\n",
       "<style>\n",
       "    /* Turns off some styling */\n",
       "    progress {\n",
       "        /* gets rid of default border in Firefox and Opera. */\n",
       "        border: none;\n",
       "        /* Needs to be in here for Safari polyfill so background images work as expected. */\n",
       "        background-size: auto;\n",
       "    }\n",
       "    progress:not([value]), progress:not([value])::-webkit-progress-bar {\n",
       "        background: repeating-linear-gradient(45deg, #7e7e7e, #7e7e7e 10px, #5c5c5c 10px, #5c5c5c 20px);\n",
       "    }\n",
       "    .progress-bar-interrupted, .progress-bar-interrupted::-webkit-progress-bar {\n",
       "        background: #F44336;\n",
       "    }\n",
       "</style>\n"
      ],
      "text/plain": [
       "<IPython.core.display.HTML object>"
      ]
     },
     "metadata": {},
     "output_type": "display_data"
    },
    {
     "data": {
      "text/html": [],
      "text/plain": [
       "<IPython.core.display.HTML object>"
      ]
     },
     "metadata": {},
     "output_type": "display_data"
    },
    {
     "name": "stderr",
     "output_type": "stream",
     "text": [
      "/home/joheras/.conda/envs/python38/lib/python3.8/site-packages/torch/_tensor.py:1279: UserWarning: Using a target size (torch.Size([4, 1])) that is different to the input size (torch.Size([4])). This will likely lead to incorrect results due to broadcasting. Please ensure they have the same size.\n",
      "  ret = func(*args, **kwargs)\n"
     ]
    }
   ],
   "source": [
    "preds,gt = learn.get_preds()"
   ]
  },
  {
   "cell_type": "code",
   "execution_count": 21,
   "metadata": {},
   "outputs": [],
   "source": [
    "from sklearn.metrics import mean_absolute_error, mean_squared_error"
   ]
  },
  {
   "cell_type": "code",
   "execution_count": 22,
   "metadata": {},
   "outputs": [
    {
     "data": {
      "text/plain": [
       "tensor([ 2.4077,  2.4077,  2.4077,  2.4077,  2.4077,  2.4077,  2.4077,  2.4077,\n",
       "         2.4077,  2.4077,  2.4077,  2.4077,  2.4077,  2.4077,  2.4077,  2.4077,\n",
       "        11.3500, 11.3500, 11.3500, 11.3500, 11.3500, 11.3500, 11.3500, 11.3500,\n",
       "        11.3500, 11.3500, 11.3500, 11.3500, 11.3500, 11.3500, 11.3500, 11.3500,\n",
       "         1.7521,  1.7521,  1.7521,  1.7521,  1.7521,  1.7521,  1.7521,  1.7521,\n",
       "         1.7521,  1.7521,  1.7521,  1.7521,  1.7521,  1.7521,  1.7521,  1.7521,\n",
       "         7.9500,  7.9500,  7.9500,  7.9500,  7.9500,  7.9500,  7.9500,  7.9500,\n",
       "         7.9500,  7.9500,  7.9500,  7.9500,  7.9500,  7.9500,  7.9500,  7.9500])"
      ]
     },
     "execution_count": 22,
     "metadata": {},
     "output_type": "execute_result"
    }
   ],
   "source": [
    "gt[-1]"
   ]
  },
  {
   "cell_type": "code",
   "execution_count": 23,
   "metadata": {},
   "outputs": [
    {
     "data": {
      "text/plain": [
       "TensorBase([[-0.1875],\n",
       "            [-0.2057],\n",
       "            [-0.3171],\n",
       "            [-0.8582],\n",
       "            [-0.3213],\n",
       "            [-0.3835],\n",
       "            [ 0.2959],\n",
       "            [-0.0818],\n",
       "            [ 0.0708],\n",
       "            [ 0.1000],\n",
       "            [-0.2951],\n",
       "            [ 0.1544],\n",
       "            [ 0.6249],\n",
       "            [ 0.2633],\n",
       "            [-0.1671],\n",
       "            [-0.4439],\n",
       "            [-0.9743],\n",
       "            [-0.6497],\n",
       "            [-0.2953],\n",
       "            [-0.8986],\n",
       "            [ 0.3950],\n",
       "            [ 0.6759],\n",
       "            [ 0.8127],\n",
       "            [ 1.1605],\n",
       "            [-0.0293],\n",
       "            [ 0.1298],\n",
       "            [-0.1587],\n",
       "            [-0.0935],\n",
       "            [-0.5885],\n",
       "            [-1.2029],\n",
       "            [-0.0544],\n",
       "            [-0.1741],\n",
       "            [-0.5193],\n",
       "            [-0.4281],\n",
       "            [-0.6474],\n",
       "            [-0.6087],\n",
       "            [ 0.3555],\n",
       "            [-0.2570],\n",
       "            [-0.4815],\n",
       "            [-0.2558],\n",
       "            [ 0.2579],\n",
       "            [ 0.2652],\n",
       "            [-0.3247],\n",
       "            [-1.5338],\n",
       "            [-0.3466],\n",
       "            [-0.3949],\n",
       "            [ 0.2537],\n",
       "            [ 0.2930],\n",
       "            [-0.4828],\n",
       "            [-0.5478],\n",
       "            [-0.8881],\n",
       "            [-0.5030],\n",
       "            [ 0.3454],\n",
       "            [-0.2100],\n",
       "            [ 1.7418],\n",
       "            [ 0.5854],\n",
       "            [ 0.1771],\n",
       "            [ 0.8576],\n",
       "            [ 0.1655],\n",
       "            [ 0.7308],\n",
       "            [-1.2361],\n",
       "            [-1.4034],\n",
       "            [ 0.2432],\n",
       "            [-0.4650]])"
      ]
     },
     "execution_count": 23,
     "metadata": {},
     "output_type": "execute_result"
    }
   ],
   "source": [
    "preds[-1]"
   ]
  },
  {
   "cell_type": "code",
   "execution_count": 24,
   "metadata": {},
   "outputs": [
    {
     "data": {
      "text/plain": [
       "6.0049334"
      ]
     },
     "execution_count": 24,
     "metadata": {},
     "output_type": "execute_result"
    }
   ],
   "source": [
    "mean_absolute_error(gt[-1],preds[-1])"
   ]
  },
  {
   "cell_type": "code",
   "execution_count": 25,
   "metadata": {},
   "outputs": [
    {
     "data": {
      "text/plain": [
       "51.877026"
      ]
     },
     "execution_count": 25,
     "metadata": {},
     "output_type": "execute_result"
    }
   ],
   "source": [
    "mean_squared_error(gt[-1],preds[-1])"
   ]
  },
  {
   "cell_type": "code",
   "execution_count": 26,
   "metadata": {},
   "outputs": [
    {
     "data": {
      "text/plain": [
       "7.202570763571021"
      ]
     },
     "execution_count": 26,
     "metadata": {},
     "output_type": "execute_result"
    }
   ],
   "source": [
    "math.sqrt(mean_squared_error(gt[-1],preds[-1]))"
   ]
  },
  {
   "cell_type": "code",
   "execution_count": null,
   "metadata": {},
   "outputs": [],
   "source": []
  }
 ],
 "metadata": {
  "kernelspec": {
   "display_name": "Python [conda env:.conda-python38]",
   "language": "python",
   "name": "conda-env-.conda-python38-py"
  },
  "language_info": {
   "codemirror_mode": {
    "name": "ipython",
    "version": 3
   },
   "file_extension": ".py",
   "mimetype": "text/x-python",
   "name": "python",
   "nbconvert_exporter": "python",
   "pygments_lexer": "ipython3",
   "version": "3.8.16"
  }
 },
 "nbformat": 4,
 "nbformat_minor": 4
}
