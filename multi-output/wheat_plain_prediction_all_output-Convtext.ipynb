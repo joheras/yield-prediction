{
 "cells": [
  {
   "cell_type": "code",
   "execution_count": 1,
   "metadata": {},
   "outputs": [
    {
     "name": "stderr",
     "output_type": "stream",
     "text": [
      "/opt/anaconda/envs/fastai/lib/python3.10/site-packages/tqdm/auto.py:21: TqdmWarning: IProgress not found. Please update jupyter and ipywidgets. See https://ipywidgets.readthedocs.io/en/stable/user_install.html\n",
      "  from .autonotebook import tqdm as notebook_tqdm\n"
     ]
    }
   ],
   "source": [
    "from fastai.vision.all import *\n",
    "import fastai\n",
    "import timm\n",
    "from wwf.vision.timm import *\n",
    "import pandas as pd"
   ]
  },
  {
   "cell_type": "code",
   "execution_count": 2,
   "metadata": {},
   "outputs": [],
   "source": [
    "import torch\n",
    "torch.cuda.set_device(3)"
   ]
  },
  {
   "cell_type": "code",
   "execution_count": 3,
   "metadata": {},
   "outputs": [],
   "source": [
    "df = pd.read_csv('data/wheat_new.csv',decimal=',')"
   ]
  },
  {
   "cell_type": "code",
   "execution_count": 4,
   "metadata": {},
   "outputs": [
    {
     "data": {
      "text/html": [
       "<div>\n",
       "<style scoped>\n",
       "    .dataframe tbody tr th:only-of-type {\n",
       "        vertical-align: middle;\n",
       "    }\n",
       "\n",
       "    .dataframe tbody tr th {\n",
       "        vertical-align: top;\n",
       "    }\n",
       "\n",
       "    .dataframe thead th {\n",
       "        text-align: right;\n",
       "    }\n",
       "</style>\n",
       "<table border=\"1\" class=\"dataframe\">\n",
       "  <thead>\n",
       "    <tr style=\"text-align: right;\">\n",
       "      <th></th>\n",
       "      <th>Unnamed: 0</th>\n",
       "      <th>file</th>\n",
       "      <th>DAS</th>\n",
       "      <th>plot nº</th>\n",
       "      <th>photo nº</th>\n",
       "      <th>species</th>\n",
       "      <th>water_treatment</th>\n",
       "      <th>management</th>\n",
       "      <th>plot m2</th>\n",
       "      <th>avg_water (L m-2)</th>\n",
       "      <th>...</th>\n",
       "      <th>P (kg microplot-1)</th>\n",
       "      <th>K (kg microplot-1)</th>\n",
       "      <th>avg_height</th>\n",
       "      <th>GA</th>\n",
       "      <th>GGA</th>\n",
       "      <th>CSI</th>\n",
       "      <th>NGRDIveg</th>\n",
       "      <th>TGIveg</th>\n",
       "      <th>final yield (kg)</th>\n",
       "      <th>dataset</th>\n",
       "    </tr>\n",
       "  </thead>\n",
       "  <tbody>\n",
       "    <tr>\n",
       "      <th>0</th>\n",
       "      <td>0</td>\n",
       "      <td>20220517_1 (1).JPG</td>\n",
       "      <td>96</td>\n",
       "      <td>1</td>\n",
       "      <td>(1).</td>\n",
       "      <td>wheat</td>\n",
       "      <td>ww</td>\n",
       "      <td>conv</td>\n",
       "      <td>12</td>\n",
       "      <td>3096.2375</td>\n",
       "      <td>...</td>\n",
       "      <td>0.072</td>\n",
       "      <td>0.072</td>\n",
       "      <td>46.9715</td>\n",
       "      <td>0.959407</td>\n",
       "      <td>0.904393</td>\n",
       "      <td>5.734098</td>\n",
       "      <td>0.1324</td>\n",
       "      <td>2569.2709</td>\n",
       "      <td>9.15</td>\n",
       "      <td>train</td>\n",
       "    </tr>\n",
       "    <tr>\n",
       "      <th>1</th>\n",
       "      <td>1</td>\n",
       "      <td>20220517_1 (2).JPG</td>\n",
       "      <td>96</td>\n",
       "      <td>1</td>\n",
       "      <td>(2).</td>\n",
       "      <td>wheat</td>\n",
       "      <td>ww</td>\n",
       "      <td>conv</td>\n",
       "      <td>12</td>\n",
       "      <td>3096.2375</td>\n",
       "      <td>...</td>\n",
       "      <td>0.072</td>\n",
       "      <td>0.072</td>\n",
       "      <td>46.9715</td>\n",
       "      <td>0.963030</td>\n",
       "      <td>0.905523</td>\n",
       "      <td>5.971505</td>\n",
       "      <td>0.1316</td>\n",
       "      <td>2648.0105</td>\n",
       "      <td>9.15</td>\n",
       "      <td>train</td>\n",
       "    </tr>\n",
       "    <tr>\n",
       "      <th>2</th>\n",
       "      <td>2</td>\n",
       "      <td>20220517_1 (3).JPG</td>\n",
       "      <td>96</td>\n",
       "      <td>1</td>\n",
       "      <td>(3).</td>\n",
       "      <td>wheat</td>\n",
       "      <td>ww</td>\n",
       "      <td>conv</td>\n",
       "      <td>12</td>\n",
       "      <td>3096.2375</td>\n",
       "      <td>...</td>\n",
       "      <td>0.072</td>\n",
       "      <td>0.072</td>\n",
       "      <td>46.9715</td>\n",
       "      <td>0.953708</td>\n",
       "      <td>0.898722</td>\n",
       "      <td>5.765430</td>\n",
       "      <td>0.1331</td>\n",
       "      <td>2736.4337</td>\n",
       "      <td>9.15</td>\n",
       "      <td>train</td>\n",
       "    </tr>\n",
       "    <tr>\n",
       "      <th>3</th>\n",
       "      <td>3</td>\n",
       "      <td>20220517_1 (4).JPG</td>\n",
       "      <td>96</td>\n",
       "      <td>1</td>\n",
       "      <td>(4).</td>\n",
       "      <td>wheat</td>\n",
       "      <td>ww</td>\n",
       "      <td>conv</td>\n",
       "      <td>12</td>\n",
       "      <td>3096.2375</td>\n",
       "      <td>...</td>\n",
       "      <td>0.072</td>\n",
       "      <td>0.072</td>\n",
       "      <td>46.9715</td>\n",
       "      <td>0.957117</td>\n",
       "      <td>0.898772</td>\n",
       "      <td>6.095965</td>\n",
       "      <td>0.1267</td>\n",
       "      <td>2550.8238</td>\n",
       "      <td>9.15</td>\n",
       "      <td>train</td>\n",
       "    </tr>\n",
       "    <tr>\n",
       "      <th>4</th>\n",
       "      <td>4</td>\n",
       "      <td>20220602_1 (1).JPG</td>\n",
       "      <td>112</td>\n",
       "      <td>1</td>\n",
       "      <td>(1).</td>\n",
       "      <td>wheat</td>\n",
       "      <td>ww</td>\n",
       "      <td>conv</td>\n",
       "      <td>12</td>\n",
       "      <td>3096.2375</td>\n",
       "      <td>...</td>\n",
       "      <td>0.072</td>\n",
       "      <td>0.072</td>\n",
       "      <td>46.9715</td>\n",
       "      <td>0.892348</td>\n",
       "      <td>0.791199</td>\n",
       "      <td>11.335180</td>\n",
       "      <td>0.1008</td>\n",
       "      <td>1880.2128</td>\n",
       "      <td>9.15</td>\n",
       "      <td>train</td>\n",
       "    </tr>\n",
       "    <tr>\n",
       "      <th>...</th>\n",
       "      <td>...</td>\n",
       "      <td>...</td>\n",
       "      <td>...</td>\n",
       "      <td>...</td>\n",
       "      <td>...</td>\n",
       "      <td>...</td>\n",
       "      <td>...</td>\n",
       "      <td>...</td>\n",
       "      <td>...</td>\n",
       "      <td>...</td>\n",
       "      <td>...</td>\n",
       "      <td>...</td>\n",
       "      <td>...</td>\n",
       "      <td>...</td>\n",
       "      <td>...</td>\n",
       "      <td>...</td>\n",
       "      <td>...</td>\n",
       "      <td>...</td>\n",
       "      <td>...</td>\n",
       "      <td>...</td>\n",
       "      <td>...</td>\n",
       "    </tr>\n",
       "    <tr>\n",
       "      <th>251</th>\n",
       "      <td>251</td>\n",
       "      <td>20220615_25 (4).JPG</td>\n",
       "      <td>125</td>\n",
       "      <td>25</td>\n",
       "      <td>(4).</td>\n",
       "      <td>wheat</td>\n",
       "      <td>d</td>\n",
       "      <td>conv</td>\n",
       "      <td>12</td>\n",
       "      <td>2752.8000</td>\n",
       "      <td>...</td>\n",
       "      <td>0.072</td>\n",
       "      <td>0.072</td>\n",
       "      <td>55.2110</td>\n",
       "      <td>0.788544</td>\n",
       "      <td>0.323428</td>\n",
       "      <td>58.984136</td>\n",
       "      <td>0.0491</td>\n",
       "      <td>2277.6824</td>\n",
       "      <td>7.95</td>\n",
       "      <td>test</td>\n",
       "    </tr>\n",
       "    <tr>\n",
       "      <th>252</th>\n",
       "      <td>252</td>\n",
       "      <td>20220701_25 (1).JPG</td>\n",
       "      <td>141</td>\n",
       "      <td>25</td>\n",
       "      <td>(1).</td>\n",
       "      <td>wheat</td>\n",
       "      <td>d</td>\n",
       "      <td>conv</td>\n",
       "      <td>12</td>\n",
       "      <td>2752.8000</td>\n",
       "      <td>...</td>\n",
       "      <td>0.072</td>\n",
       "      <td>0.072</td>\n",
       "      <td>55.2110</td>\n",
       "      <td>0.031868</td>\n",
       "      <td>0.009072</td>\n",
       "      <td>71.532905</td>\n",
       "      <td>0.0342</td>\n",
       "      <td>946.1760</td>\n",
       "      <td>7.95</td>\n",
       "      <td>test</td>\n",
       "    </tr>\n",
       "    <tr>\n",
       "      <th>253</th>\n",
       "      <td>253</td>\n",
       "      <td>20220701_25 (2).JPG</td>\n",
       "      <td>141</td>\n",
       "      <td>25</td>\n",
       "      <td>(2).</td>\n",
       "      <td>wheat</td>\n",
       "      <td>d</td>\n",
       "      <td>conv</td>\n",
       "      <td>12</td>\n",
       "      <td>2752.8000</td>\n",
       "      <td>...</td>\n",
       "      <td>0.072</td>\n",
       "      <td>0.072</td>\n",
       "      <td>55.2110</td>\n",
       "      <td>0.025828</td>\n",
       "      <td>0.006849</td>\n",
       "      <td>73.483356</td>\n",
       "      <td>0.0314</td>\n",
       "      <td>867.4491</td>\n",
       "      <td>7.95</td>\n",
       "      <td>test</td>\n",
       "    </tr>\n",
       "    <tr>\n",
       "      <th>254</th>\n",
       "      <td>254</td>\n",
       "      <td>20220701_25 (3).JPG</td>\n",
       "      <td>141</td>\n",
       "      <td>25</td>\n",
       "      <td>(3).</td>\n",
       "      <td>wheat</td>\n",
       "      <td>d</td>\n",
       "      <td>conv</td>\n",
       "      <td>12</td>\n",
       "      <td>2752.8000</td>\n",
       "      <td>...</td>\n",
       "      <td>0.072</td>\n",
       "      <td>0.072</td>\n",
       "      <td>55.2110</td>\n",
       "      <td>0.022065</td>\n",
       "      <td>0.004773</td>\n",
       "      <td>78.367629</td>\n",
       "      <td>0.0196</td>\n",
       "      <td>855.3556</td>\n",
       "      <td>7.95</td>\n",
       "      <td>test</td>\n",
       "    </tr>\n",
       "    <tr>\n",
       "      <th>255</th>\n",
       "      <td>255</td>\n",
       "      <td>20220701_25 (4).JPG</td>\n",
       "      <td>141</td>\n",
       "      <td>25</td>\n",
       "      <td>(4).</td>\n",
       "      <td>wheat</td>\n",
       "      <td>d</td>\n",
       "      <td>conv</td>\n",
       "      <td>12</td>\n",
       "      <td>2752.8000</td>\n",
       "      <td>...</td>\n",
       "      <td>0.072</td>\n",
       "      <td>0.072</td>\n",
       "      <td>55.2110</td>\n",
       "      <td>0.026765</td>\n",
       "      <td>0.007124</td>\n",
       "      <td>73.384338</td>\n",
       "      <td>0.0265</td>\n",
       "      <td>979.4368</td>\n",
       "      <td>7.95</td>\n",
       "      <td>test</td>\n",
       "    </tr>\n",
       "  </tbody>\n",
       "</table>\n",
       "<p>256 rows × 21 columns</p>\n",
       "</div>"
      ],
      "text/plain": [
       "     Unnamed: 0                 file  DAS  plot nº photo nº species   \n",
       "0             0   20220517_1 (1).JPG   96        1     (1).   wheat  \\\n",
       "1             1   20220517_1 (2).JPG   96        1     (2).   wheat   \n",
       "2             2   20220517_1 (3).JPG   96        1     (3).   wheat   \n",
       "3             3   20220517_1 (4).JPG   96        1     (4).   wheat   \n",
       "4             4   20220602_1 (1).JPG  112        1     (1).   wheat   \n",
       "..          ...                  ...  ...      ...      ...     ...   \n",
       "251         251  20220615_25 (4).JPG  125       25     (4).   wheat   \n",
       "252         252  20220701_25 (1).JPG  141       25     (1).   wheat   \n",
       "253         253  20220701_25 (2).JPG  141       25     (2).   wheat   \n",
       "254         254  20220701_25 (3).JPG  141       25     (3).   wheat   \n",
       "255         255  20220701_25 (4).JPG  141       25     (4).   wheat   \n",
       "\n",
       "    water_treatment management  plot m2  avg_water (L m-2)  ...   \n",
       "0                ww       conv       12          3096.2375  ...  \\\n",
       "1                ww       conv       12          3096.2375  ...   \n",
       "2                ww       conv       12          3096.2375  ...   \n",
       "3                ww       conv       12          3096.2375  ...   \n",
       "4                ww       conv       12          3096.2375  ...   \n",
       "..              ...        ...      ...                ...  ...   \n",
       "251               d       conv       12          2752.8000  ...   \n",
       "252               d       conv       12          2752.8000  ...   \n",
       "253               d       conv       12          2752.8000  ...   \n",
       "254               d       conv       12          2752.8000  ...   \n",
       "255               d       conv       12          2752.8000  ...   \n",
       "\n",
       "     P (kg microplot-1)  K (kg microplot-1)  avg_height        GA       GGA   \n",
       "0                 0.072               0.072     46.9715  0.959407  0.904393  \\\n",
       "1                 0.072               0.072     46.9715  0.963030  0.905523   \n",
       "2                 0.072               0.072     46.9715  0.953708  0.898722   \n",
       "3                 0.072               0.072     46.9715  0.957117  0.898772   \n",
       "4                 0.072               0.072     46.9715  0.892348  0.791199   \n",
       "..                  ...                 ...         ...       ...       ...   \n",
       "251               0.072               0.072     55.2110  0.788544  0.323428   \n",
       "252               0.072               0.072     55.2110  0.031868  0.009072   \n",
       "253               0.072               0.072     55.2110  0.025828  0.006849   \n",
       "254               0.072               0.072     55.2110  0.022065  0.004773   \n",
       "255               0.072               0.072     55.2110  0.026765  0.007124   \n",
       "\n",
       "           CSI  NGRDIveg     TGIveg  final yield (kg)  dataset  \n",
       "0     5.734098    0.1324  2569.2709              9.15    train  \n",
       "1     5.971505    0.1316  2648.0105              9.15    train  \n",
       "2     5.765430    0.1331  2736.4337              9.15    train  \n",
       "3     6.095965    0.1267  2550.8238              9.15    train  \n",
       "4    11.335180    0.1008  1880.2128              9.15    train  \n",
       "..         ...       ...        ...               ...      ...  \n",
       "251  58.984136    0.0491  2277.6824              7.95     test  \n",
       "252  71.532905    0.0342   946.1760              7.95     test  \n",
       "253  73.483356    0.0314   867.4491              7.95     test  \n",
       "254  78.367629    0.0196   855.3556              7.95     test  \n",
       "255  73.384338    0.0265   979.4368              7.95     test  \n",
       "\n",
       "[256 rows x 21 columns]"
      ]
     },
     "execution_count": 4,
     "metadata": {},
     "output_type": "execute_result"
    }
   ],
   "source": [
    "df"
   ]
  },
  {
   "cell_type": "code",
   "execution_count": 5,
   "metadata": {},
   "outputs": [
    {
     "data": {
      "text/plain": [
       "array(['conv', 'eco'], dtype=object)"
      ]
     },
     "execution_count": 5,
     "metadata": {},
     "output_type": "execute_result"
    }
   ],
   "source": [
    "np.unique(df['management'])"
   ]
  },
  {
   "cell_type": "code",
   "execution_count": 6,
   "metadata": {},
   "outputs": [],
   "source": [
    "dftrain = df[(df.dataset=='train')|(df.dataset=='validation')]\n",
    "dftrain.loc[:,'dataset'] =  dftrain['dataset'].apply(lambda x: x=='validation')\n",
    "df.loc[:,'dataset'] =  df['dataset'].apply(lambda x: x=='test')"
   ]
  },
  {
   "cell_type": "code",
   "execution_count": 7,
   "metadata": {},
   "outputs": [
    {
     "data": {
      "text/plain": [
       "Index(['Unnamed: 0', 'file', 'DAS', 'plot nº', 'photo nº', 'species',\n",
       "       'water_treatment', 'management', 'plot m2', 'avg_water (L m-2)',\n",
       "       'N (kg microplot-1)', 'P (kg microplot-1)', 'K (kg microplot-1)',\n",
       "       'avg_height', 'GA', 'GGA', 'CSI', 'NGRDIveg', 'TGIveg',\n",
       "       'final yield (kg)', 'dataset'],\n",
       "      dtype='object')"
      ]
     },
     "execution_count": 7,
     "metadata": {},
     "output_type": "execute_result"
    }
   ],
   "source": [
    "dftrain.columns"
   ]
  },
  {
   "cell_type": "code",
   "execution_count": 8,
   "metadata": {},
   "outputs": [],
   "source": [
    "db = DataBlock(blocks = (ImageBlock,\n",
    "                         RegressionBlock(),RegressionBlock(),RegressionBlock(),RegressionBlock(),\n",
    "                         RegressionBlock(),RegressionBlock(),RegressionBlock(),RegressionBlock(),\n",
    "                         RegressionBlock(),RegressionBlock(),RegressionBlock(),RegressionBlock()),\n",
    "                 get_x=[ColReader('file',pref='wheat_all/')],\n",
    "                 get_y=[#ColReader('species'),\n",
    "                        #ColReader('water_treatment'),\n",
    "                        #ColReader('management'),\n",
    "                        ColReader('plot m2'),\n",
    "                        ColReader('avg_water (L m-2)'),\n",
    "                        ColReader('N (kg microplot-1)'),\n",
    "                        ColReader('P (kg microplot-1)'),\n",
    "                        ColReader('K (kg microplot-1)'),\n",
    "                        ColReader('avg_height'),\n",
    "                        ColReader('GA'),\n",
    "                        ColReader('GGA'),\n",
    "                        ColReader('CSI'),\n",
    "                        ColReader('NGRDIveg'),\n",
    "                        ColReader('TGIveg'),\n",
    "                        ColReader('final yield (kg)')],\n",
    "                 splitter=ColSplitter(col='dataset'),    \n",
    "                 item_tfms = Resize(640),\n",
    "                 batch_tfms=[*aug_transforms(size=512,flip_vert=True,\n",
    "                                            max_zoom=1.0), Normalize.from_stats(*imagenet_stats)],\n",
    "               n_inp=1)\n",
    "dls = db.dataloaders(dftrain,bs=4)"
   ]
  },
  {
   "cell_type": "code",
   "execution_count": 9,
   "metadata": {},
   "outputs": [],
   "source": [
    "from fastai.vision.all import *\n",
    "callbacks = [\n",
    "    ShowGraphCallback(),\n",
    "    # EarlyStoppingCallback(patience=5),\n",
    "    SaveModelCallback(fname='convnext_yield_all_plain_output'),\n",
    "    ReduceLROnPlateau()\n",
    "]"
   ]
  },
  {
   "cell_type": "code",
   "execution_count": 10,
   "metadata": {},
   "outputs": [],
   "source": [
    "class MultiInputModel(Module):\n",
    "  \"A three-headed model given a `body` and `n` output features\"\n",
    "  def __init__(self, body:nn.Sequential):\n",
    "    nf = num_features_model(nn.Sequential(*body.children()))\n",
    "    self.body = body\n",
    "    #self.water_treatment = create_head(nf, 4)\n",
    "    #self.management = create_head(nf, 2)\n",
    "    self.avg_water = create_head(nf,1)\n",
    "    self.n = create_head(nf,1)\n",
    "    self.p = create_head(nf,1)\n",
    "    self.k = create_head(nf,1)\n",
    "    self.avg_height = create_head(nf,1)\n",
    "    self.ga = create_head(nf,1)\n",
    "    self.gga = create_head(nf,1)\n",
    "    self.csi = create_head(nf,1)\n",
    "    self.NGRDIveg = create_head(nf,1)\n",
    "    self.TGIveg = create_head(nf,1)\n",
    "    self.yieldprod = create_head(nf,1)\n",
    "\n",
    "    \n",
    "    \n",
    "  \n",
    "  def forward(self, x):\n",
    "    y = self.body(x)\n",
    "    return [\n",
    "        #self.water_treatment(y),\n",
    "        #self.management(y),\n",
    "        self.avg_water(y),\n",
    "        self.n(y),\n",
    "        self.p(y),\n",
    "        self.k(y),\n",
    "        self.avg_height(y),\n",
    "        self.ga(y),\n",
    "        self.gga(y),\n",
    "        self.csi(y),\n",
    "        self.NGRDIveg(y),\n",
    "        self.TGIveg(y),\n",
    "        self.yieldprod(y)]"
   ]
  },
  {
   "cell_type": "code",
   "execution_count": 11,
   "metadata": {},
   "outputs": [],
   "source": [
    "body = create_timm_body('convnext_base', pretrained=True)\n",
    "# body = create_body(resnet50, pretrained=True)\n",
    "net = MultiInputModel(body)"
   ]
  },
  {
   "cell_type": "code",
   "execution_count": 12,
   "metadata": {},
   "outputs": [],
   "source": [
    "from fastai.metrics import mae,rmse,mse"
   ]
  },
  {
   "cell_type": "code",
   "execution_count": 13,
   "metadata": {},
   "outputs": [],
   "source": [
    "class CombinationLoss(Module):\n",
    "    \"Cross Entropy Loss on multiple targets\"\n",
    "    def __init__(self, func1=F.cross_entropy,func2=F.mse_loss, weights=[2, 1]):\n",
    "        self.func1, self.func2, self.w = func2, func2, weights\n",
    "\n",
    "    def forward(self, xs, *ys, reduction='mean'):\n",
    "        res = self.func2(ys[0],torch.reshape(xs[0],(4,1)))\n",
    "        for i in range(1,10):\n",
    "            res = res + self.func2(ys[i],torch.reshape(xs[i],(4,1)))\n",
    "        res = res + self.func2(ys[10],torch.reshape(xs[10],(4,1)))\n",
    "        return res\n",
    "    \n",
    "#         for i, w, x, y in zip(range(len(xs)), self.w, xs, ys):\n",
    "#             print(x[1])\n",
    "#             print(y[1])\n",
    "#             if i == 0: loss = self.func2(x[1], y[1], reduction=reduction) \n",
    "#             else: loss += self.func2(x[1], y[1], reduction=reduction) \n",
    "        \n",
    "#         return loss"
   ]
  },
  {
   "cell_type": "code",
   "execution_count": 14,
   "metadata": {},
   "outputs": [],
   "source": [
    "learn = Learner(dls, net, loss_func=CombinationLoss(),cbs=callbacks)"
   ]
  },
  {
   "cell_type": "code",
   "execution_count": 15,
   "metadata": {},
   "outputs": [],
   "source": [
    "# learn.lr_find()"
   ]
  },
  {
   "cell_type": "code",
   "execution_count": 16,
   "metadata": {},
   "outputs": [],
   "source": [
    "learn.freeze()"
   ]
  },
  {
   "cell_type": "code",
   "execution_count": 17,
   "metadata": {},
   "outputs": [
    {
     "data": {
      "text/html": [
       "\n",
       "<style>\n",
       "    /* Turns off some styling */\n",
       "    progress {\n",
       "        /* gets rid of default border in Firefox and Opera. */\n",
       "        border: none;\n",
       "        /* Needs to be in here for Safari polyfill so background images work as expected. */\n",
       "        background-size: auto;\n",
       "    }\n",
       "    progress:not([value]), progress:not([value])::-webkit-progress-bar {\n",
       "        background: repeating-linear-gradient(45deg, #7e7e7e, #7e7e7e 10px, #5c5c5c 10px, #5c5c5c 20px);\n",
       "    }\n",
       "    .progress-bar-interrupted, .progress-bar-interrupted::-webkit-progress-bar {\n",
       "        background: #F44336;\n",
       "    }\n",
       "</style>\n"
      ],
      "text/plain": [
       "<IPython.core.display.HTML object>"
      ]
     },
     "metadata": {},
     "output_type": "display_data"
    },
    {
     "data": {
      "text/html": [
       "<table border=\"1\" class=\"dataframe\">\n",
       "  <thead>\n",
       "    <tr style=\"text-align: left;\">\n",
       "      <th>epoch</th>\n",
       "      <th>train_loss</th>\n",
       "      <th>valid_loss</th>\n",
       "      <th>time</th>\n",
       "    </tr>\n",
       "  </thead>\n",
       "  <tbody>\n",
       "    <tr>\n",
       "      <td>0</td>\n",
       "      <td>16144250.000000</td>\n",
       "      <td>17572638.000000</td>\n",
       "      <td>00:25</td>\n",
       "    </tr>\n",
       "  </tbody>\n",
       "</table>"
      ],
      "text/plain": [
       "<IPython.core.display.HTML object>"
      ]
     },
     "metadata": {},
     "output_type": "display_data"
    },
    {
     "name": "stderr",
     "output_type": "stream",
     "text": [
      "/tmp/ipykernel_3935035/3432634807.py:7: UserWarning: Using a target size (torch.Size([4, 1])) that is different to the input size (torch.Size([4])). This will likely lead to incorrect results due to broadcasting. Please ensure they have the same size.\n",
      "  res = self.func2(ys[0],torch.reshape(xs[0],(4,1)))\n",
      "/tmp/ipykernel_3935035/3432634807.py:9: UserWarning: Using a target size (torch.Size([4, 1])) that is different to the input size (torch.Size([4])). This will likely lead to incorrect results due to broadcasting. Please ensure they have the same size.\n",
      "  res = res + self.func2(ys[i],torch.reshape(xs[i],(4,1)))\n",
      "/tmp/ipykernel_3935035/3432634807.py:10: UserWarning: Using a target size (torch.Size([4, 1])) that is different to the input size (torch.Size([4])). This will likely lead to incorrect results due to broadcasting. Please ensure they have the same size.\n",
      "  res = res + self.func2(ys[10],torch.reshape(xs[10],(4,1)))\n"
     ]
    },
    {
     "name": "stdout",
     "output_type": "stream",
     "text": [
      "Better model found at epoch 0 with valid_loss value: 17572638.0.\n"
     ]
    },
    {
     "data": {
      "image/png": "[encoded data removed]",
      "text/plain": [
       "<Figure size 600x400 with 1 Axes>"
      ]
     },
     "metadata": {},
     "output_type": "display_data"
    },
    {
     "data": {
      "text/html": [
       "\n",
       "<style>\n",
       "    /* Turns off some styling */\n",
       "    progress {\n",
       "        /* gets rid of default border in Firefox and Opera. */\n",
       "        border: none;\n",
       "        /* Needs to be in here for Safari polyfill so background images work as expected. */\n",
       "        background-size: auto;\n",
       "    }\n",
       "    progress:not([value]), progress:not([value])::-webkit-progress-bar {\n",
       "        background: repeating-linear-gradient(45deg, #7e7e7e, #7e7e7e 10px, #5c5c5c 10px, #5c5c5c 20px);\n",
       "    }\n",
       "    .progress-bar-interrupted, .progress-bar-interrupted::-webkit-progress-bar {\n",
       "        background: #F44336;\n",
       "    }\n",
       "</style>\n"
      ],
      "text/plain": [
       "<IPython.core.display.HTML object>"
      ]
     },
     "metadata": {},
     "output_type": "display_data"
    },
    {
     "data": {
      "text/html": [
       "<table border=\"1\" class=\"dataframe\">\n",
       "  <thead>\n",
       "    <tr style=\"text-align: left;\">\n",
       "      <th>epoch</th>\n",
       "      <th>train_loss</th>\n",
       "      <th>valid_loss</th>\n",
       "      <th>time</th>\n",
       "    </tr>\n",
       "  </thead>\n",
       "  <tbody>\n",
       "    <tr>\n",
       "      <td>0</td>\n",
       "      <td>16250575.000000</td>\n",
       "      <td>17585858.000000</td>\n",
       "      <td>00:24</td>\n",
       "    </tr>\n",
       "    <tr>\n",
       "      <td>1</td>\n",
       "      <td>16375621.000000</td>\n",
       "      <td>17576364.000000</td>\n",
       "      <td>00:25</td>\n",
       "    </tr>\n",
       "    <tr>\n",
       "      <td>2</td>\n",
       "      <td>16349678.000000</td>\n",
       "      <td>17579308.000000</td>\n",
       "      <td>00:25</td>\n",
       "    </tr>\n",
       "    <tr>\n",
       "      <td>3</td>\n",
       "      <td>16356800.000000</td>\n",
       "      <td>17583394.000000</td>\n",
       "      <td>00:25</td>\n",
       "    </tr>\n",
       "    <tr>\n",
       "      <td>4</td>\n",
       "      <td>16332827.000000</td>\n",
       "      <td>17573434.000000</td>\n",
       "      <td>00:25</td>\n",
       "    </tr>\n",
       "    <tr>\n",
       "      <td>5</td>\n",
       "      <td>16315009.000000</td>\n",
       "      <td>17573402.000000</td>\n",
       "      <td>00:25</td>\n",
       "    </tr>\n",
       "    <tr>\n",
       "      <td>6</td>\n",
       "      <td>16287709.000000</td>\n",
       "      <td>17587448.000000</td>\n",
       "      <td>00:25</td>\n",
       "    </tr>\n",
       "    <tr>\n",
       "      <td>7</td>\n",
       "      <td>16252427.000000</td>\n",
       "      <td>17696276.000000</td>\n",
       "      <td>00:25</td>\n",
       "    </tr>\n",
       "    <tr>\n",
       "      <td>8</td>\n",
       "      <td>16318048.000000</td>\n",
       "      <td>17377388.000000</td>\n",
       "      <td>00:25</td>\n",
       "    </tr>\n",
       "    <tr>\n",
       "      <td>9</td>\n",
       "      <td>16210282.000000</td>\n",
       "      <td>17540622.000000</td>\n",
       "      <td>00:25</td>\n",
       "    </tr>\n",
       "    <tr>\n",
       "      <td>10</td>\n",
       "      <td>16227722.000000</td>\n",
       "      <td>17601194.000000</td>\n",
       "      <td>00:25</td>\n",
       "    </tr>\n",
       "    <tr>\n",
       "      <td>11</td>\n",
       "      <td>16306341.000000</td>\n",
       "      <td>17515312.000000</td>\n",
       "      <td>00:25</td>\n",
       "    </tr>\n",
       "    <tr>\n",
       "      <td>12</td>\n",
       "      <td>16239798.000000</td>\n",
       "      <td>17528234.000000</td>\n",
       "      <td>00:25</td>\n",
       "    </tr>\n",
       "    <tr>\n",
       "      <td>13</td>\n",
       "      <td>16299152.000000</td>\n",
       "      <td>17502740.000000</td>\n",
       "      <td>00:25</td>\n",
       "    </tr>\n",
       "    <tr>\n",
       "      <td>14</td>\n",
       "      <td>16304120.000000</td>\n",
       "      <td>17476544.000000</td>\n",
       "      <td>00:25</td>\n",
       "    </tr>\n",
       "    <tr>\n",
       "      <td>15</td>\n",
       "      <td>16346851.000000</td>\n",
       "      <td>17480388.000000</td>\n",
       "      <td>00:25</td>\n",
       "    </tr>\n",
       "    <tr>\n",
       "      <td>16</td>\n",
       "      <td>16279511.000000</td>\n",
       "      <td>17442832.000000</td>\n",
       "      <td>00:25</td>\n",
       "    </tr>\n",
       "    <tr>\n",
       "      <td>17</td>\n",
       "      <td>16157805.000000</td>\n",
       "      <td>17439134.000000</td>\n",
       "      <td>00:25</td>\n",
       "    </tr>\n",
       "    <tr>\n",
       "      <td>18</td>\n",
       "      <td>16096016.000000</td>\n",
       "      <td>17425208.000000</td>\n",
       "      <td>00:25</td>\n",
       "    </tr>\n",
       "    <tr>\n",
       "      <td>19</td>\n",
       "      <td>16112795.000000</td>\n",
       "      <td>17357280.000000</td>\n",
       "      <td>00:25</td>\n",
       "    </tr>\n",
       "    <tr>\n",
       "      <td>20</td>\n",
       "      <td>16150148.000000</td>\n",
       "      <td>17364542.000000</td>\n",
       "      <td>00:25</td>\n",
       "    </tr>\n",
       "    <tr>\n",
       "      <td>21</td>\n",
       "      <td>16103461.000000</td>\n",
       "      <td>17370314.000000</td>\n",
       "      <td>00:25</td>\n",
       "    </tr>\n",
       "    <tr>\n",
       "      <td>22</td>\n",
       "      <td>16118167.000000</td>\n",
       "      <td>17344562.000000</td>\n",
       "      <td>00:25</td>\n",
       "    </tr>\n",
       "    <tr>\n",
       "      <td>23</td>\n",
       "      <td>16025187.000000</td>\n",
       "      <td>17380386.000000</td>\n",
       "      <td>00:25</td>\n",
       "    </tr>\n",
       "    <tr>\n",
       "      <td>24</td>\n",
       "      <td>16116353.000000</td>\n",
       "      <td>17358102.000000</td>\n",
       "      <td>00:25</td>\n",
       "    </tr>\n",
       "    <tr>\n",
       "      <td>25</td>\n",
       "      <td>16154343.000000</td>\n",
       "      <td>17351720.000000</td>\n",
       "      <td>00:25</td>\n",
       "    </tr>\n",
       "    <tr>\n",
       "      <td>26</td>\n",
       "      <td>16145938.000000</td>\n",
       "      <td>17348598.000000</td>\n",
       "      <td>00:25</td>\n",
       "    </tr>\n",
       "    <tr>\n",
       "      <td>27</td>\n",
       "      <td>16078948.000000</td>\n",
       "      <td>17346132.000000</td>\n",
       "      <td>00:25</td>\n",
       "    </tr>\n",
       "    <tr>\n",
       "      <td>28</td>\n",
       "      <td>16065145.000000</td>\n",
       "      <td>17345634.000000</td>\n",
       "      <td>00:25</td>\n",
       "    </tr>\n",
       "    <tr>\n",
       "      <td>29</td>\n",
       "      <td>16091722.000000</td>\n",
       "      <td>17348026.000000</td>\n",
       "      <td>00:25</td>\n",
       "    </tr>\n",
       "  </tbody>\n",
       "</table>"
      ],
      "text/plain": [
       "<IPython.core.display.HTML object>"
      ]
     },
     "metadata": {},
     "output_type": "display_data"
    },
    {
     "name": "stdout",
     "output_type": "stream",
     "text": [
      "Better model found at epoch 0 with valid_loss value: 17585858.0.\n"
     ]
    },
    {
     "data": {
      "image/png": "[encoded data removed]",
      "text/plain": [
       "<Figure size 600x400 with 1 Axes>"
      ]
     },
     "metadata": {},
     "output_type": "display_data"
    },
    {
     "name": "stdout",
     "output_type": "stream",
     "text": [
      "Better model found at epoch 1 with valid_loss value: 17576364.0.\n",
      "Epoch 2: reducing lr to 1.9849232884202e-05\n",
      "Epoch 3: reducing lr to 2.6355287403487125e-05\n",
      "Better model found at epoch 4 with valid_loss value: 17573434.0.\n",
      "Better model found at epoch 5 with valid_loss value: 17573402.0.\n",
      "Epoch 6: reducing lr to 4.520811833910915e-05\n",
      "Epoch 7: reducing lr to 4.873344442617071e-05\n",
      "Better model found at epoch 8 with valid_loss value: 17377388.0.\n",
      "Epoch 9: reducing lr to 4.9734535837584077e-05\n",
      "Epoch 10: reducing lr to 4.89167235096857e-05\n",
      "Epoch 11: reducing lr to 4.7564656496014554e-05\n",
      "Epoch 12: reducing lr to 4.570853815814416e-05\n",
      "Epoch 13: reducing lr to 4.338983093727892e-05\n",
      "Epoch 14: reducing lr to 4.066033182728131e-05\n",
      "Epoch 15: reducing lr to 3.758100757025038e-05\n",
      "Epoch 16: reducing lr to 3.4220655836286646e-05\n",
      "Epoch 17: reducing lr to 3.065433119404567e-05\n",
      "Epoch 18: reducing lr to 2.696170824510821e-05\n",
      "Better model found at epoch 19 with valid_loss value: 17357280.0.\n",
      "Epoch 20: reducing lr to 1.9528478785647915e-05\n",
      "Epoch 21: reducing lr to 1.5953913899651585e-05\n",
      "Better model found at epoch 22 with valid_loss value: 17344562.0.\n",
      "Epoch 23: reducing lr to 9.486369415240423e-06\n",
      "Epoch 24: reducing lr to 6.737862685234704e-06\n",
      "Epoch 25: reducing lr to 4.39730113922927e-06\n",
      "Epoch 26: reducing lr to 2.516980614458383e-06\n",
      "Epoch 27: reducing lr to 1.1388950674479439e-06\n",
      "Epoch 28: reducing lr to 2.938354584204302e-07\n",
      "Epoch 29: reducing lr to 6.748443976811042e-10\n"
     ]
    }
   ],
   "source": [
    "learn.fine_tune(30,base_lr=1e-3)"
   ]
  },
  {
   "cell_type": "code",
   "execution_count": 19,
   "metadata": {},
   "outputs": [],
   "source": [
    "dls = db.dataloaders(df,bs=4)"
   ]
  },
  {
   "cell_type": "code",
   "execution_count": 20,
   "metadata": {},
   "outputs": [],
   "source": [
    "learn.dls=dls"
   ]
  },
  {
   "cell_type": "code",
   "execution_count": 21,
   "metadata": {},
   "outputs": [
    {
     "data": {
      "text/html": [
       "\n",
       "<style>\n",
       "    /* Turns off some styling */\n",
       "    progress {\n",
       "        /* gets rid of default border in Firefox and Opera. */\n",
       "        border: none;\n",
       "        /* Needs to be in here for Safari polyfill so background images work as expected. */\n",
       "        background-size: auto;\n",
       "    }\n",
       "    progress:not([value]), progress:not([value])::-webkit-progress-bar {\n",
       "        background: repeating-linear-gradient(45deg, #7e7e7e, #7e7e7e 10px, #5c5c5c 10px, #5c5c5c 20px);\n",
       "    }\n",
       "    .progress-bar-interrupted, .progress-bar-interrupted::-webkit-progress-bar {\n",
       "        background: #F44336;\n",
       "    }\n",
       "</style>\n"
      ],
      "text/plain": [
       "<IPython.core.display.HTML object>"
      ]
     },
     "metadata": {},
     "output_type": "display_data"
    },
    {
     "data": {
      "text/html": [],
      "text/plain": [
       "<IPython.core.display.HTML object>"
      ]
     },
     "metadata": {},
     "output_type": "display_data"
    },
    {
     "name": "stderr",
     "output_type": "stream",
     "text": [
      "/tmp/ipykernel_3935035/3432634807.py:7: UserWarning: Using a target size (torch.Size([4, 1])) that is different to the input size (torch.Size([4])). This will likely lead to incorrect results due to broadcasting. Please ensure they have the same size.\n",
      "  res = self.func2(ys[0],torch.reshape(xs[0],(4,1)))\n",
      "/tmp/ipykernel_3935035/3432634807.py:9: UserWarning: Using a target size (torch.Size([4, 1])) that is different to the input size (torch.Size([4])). This will likely lead to incorrect results due to broadcasting. Please ensure they have the same size.\n",
      "  res = res + self.func2(ys[i],torch.reshape(xs[i],(4,1)))\n",
      "/tmp/ipykernel_3935035/3432634807.py:10: UserWarning: Using a target size (torch.Size([4, 1])) that is different to the input size (torch.Size([4])). This will likely lead to incorrect results due to broadcasting. Please ensure they have the same size.\n",
      "  res = res + self.func2(ys[10],torch.reshape(xs[10],(4,1)))\n"
     ]
    }
   ],
   "source": [
    "preds,gt = learn.get_preds()"
   ]
  },
  {
   "cell_type": "code",
   "execution_count": 26,
   "metadata": {},
   "outputs": [],
   "source": [
    "from sklearn.metrics import mean_absolute_error, mean_squared_error"
   ]
  },
  {
   "cell_type": "code",
   "execution_count": 34,
   "metadata": {},
   "outputs": [
    {
     "data": {
      "text/plain": [
       "tensor([ 2.4077,  2.4077,  2.4077,  2.4077,  2.4077,  2.4077,  2.4077,  2.4077,\n",
       "         2.4077,  2.4077,  2.4077,  2.4077,  2.4077,  2.4077,  2.4077,  2.4077,\n",
       "        11.3500, 11.3500, 11.3500, 11.3500, 11.3500, 11.3500, 11.3500, 11.3500,\n",
       "        11.3500, 11.3500, 11.3500, 11.3500, 11.3500, 11.3500, 11.3500, 11.3500,\n",
       "         1.7521,  1.7521,  1.7521,  1.7521,  1.7521,  1.7521,  1.7521,  1.7521,\n",
       "         1.7521,  1.7521,  1.7521,  1.7521,  1.7521,  1.7521,  1.7521,  1.7521,\n",
       "         7.9500,  7.9500,  7.9500,  7.9500,  7.9500,  7.9500,  7.9500,  7.9500,\n",
       "         7.9500,  7.9500,  7.9500,  7.9500,  7.9500,  7.9500,  7.9500,  7.9500])"
      ]
     },
     "execution_count": 34,
     "metadata": {},
     "output_type": "execute_result"
    }
   ],
   "source": [
    "gt[-1]"
   ]
  },
  {
   "cell_type": "code",
   "execution_count": 36,
   "metadata": {},
   "outputs": [
    {
     "data": {
      "text/plain": [
       "tensor([[16.2222],\n",
       "        [18.3847],\n",
       "        [17.2133],\n",
       "        [17.8772],\n",
       "        [18.1626],\n",
       "        [18.4890],\n",
       "        [20.2583],\n",
       "        [19.7526],\n",
       "        [20.5783],\n",
       "        [20.9620],\n",
       "        [20.2135],\n",
       "        [22.5538],\n",
       "        [23.0014],\n",
       "        [20.5553],\n",
       "        [21.5595],\n",
       "        [19.3196],\n",
       "        [17.4657],\n",
       "        [17.8315],\n",
       "        [16.2838],\n",
       "        [17.8915],\n",
       "        [20.3205],\n",
       "        [20.3575],\n",
       "        [19.0394],\n",
       "        [20.2157],\n",
       "        [20.3323],\n",
       "        [21.2839],\n",
       "        [20.5939],\n",
       "        [20.2098],\n",
       "        [18.7202],\n",
       "        [22.0496],\n",
       "        [20.5655],\n",
       "        [21.0110],\n",
       "        [17.3013],\n",
       "        [16.3847],\n",
       "        [16.9851],\n",
       "        [17.7493],\n",
       "        [18.9880],\n",
       "        [20.8096],\n",
       "        [19.8100],\n",
       "        [20.3850],\n",
       "        [21.0272],\n",
       "        [19.6209],\n",
       "        [19.4892],\n",
       "        [20.1114],\n",
       "        [19.0137],\n",
       "        [20.6205],\n",
       "        [19.4104],\n",
       "        [20.7022],\n",
       "        [17.8016],\n",
       "        [18.8385],\n",
       "        [19.1098],\n",
       "        [18.9439],\n",
       "        [21.6558],\n",
       "        [18.9654],\n",
       "        [21.7673],\n",
       "        [19.7183],\n",
       "        [19.7153],\n",
       "        [20.2646],\n",
       "        [20.7256],\n",
       "        [18.2621],\n",
       "        [21.3132],\n",
       "        [20.3874],\n",
       "        [21.6943],\n",
       "        [23.9229]])"
      ]
     },
     "execution_count": 36,
     "metadata": {},
     "output_type": "execute_result"
    }
   ],
   "source": [
    "preds[-1]"
   ]
  },
  {
   "cell_type": "code",
   "execution_count": 35,
   "metadata": {},
   "outputs": [
    {
     "data": {
      "text/plain": [
       "13.834579"
      ]
     },
     "execution_count": 35,
     "metadata": {},
     "output_type": "execute_result"
    }
   ],
   "source": [
    "mean_absolute_error(gt[-1],preds[-1])"
   ]
  },
  {
   "cell_type": "code",
   "execution_count": 28,
   "metadata": {},
   "outputs": [
    {
     "data": {
      "text/plain": [
       "208.62653"
      ]
     },
     "execution_count": 28,
     "metadata": {},
     "output_type": "execute_result"
    }
   ],
   "source": [
    "mean_squared_error(gt[-1],preds[-1])"
   ]
  },
  {
   "cell_type": "code",
   "execution_count": 27,
   "metadata": {},
   "outputs": [
    {
     "data": {
      "text/plain": [
       "14.44390964659175"
      ]
     },
     "execution_count": 27,
     "metadata": {},
     "output_type": "execute_result"
    }
   ],
   "source": [
    "math.sqrt(mean_squared_error(gt[-1],preds[-1]))"
   ]
  },
  {
   "cell_type": "code",
   "execution_count": null,
   "metadata": {},
   "outputs": [],
   "source": []
  }
 ],
 "metadata": {
  "kernelspec": {
   "display_name": "Python [conda env:fastai]",
   "language": "python",
   "name": "conda-env-fastai-py"
  },
  "language_info": {
   "codemirror_mode": {
    "name": "ipython",
    "version": 3
   },
   "file_extension": ".py",
   "mimetype": "text/x-python",
   "name": "python",
   "nbconvert_exporter": "python",
   "pygments_lexer": "ipython3",
   "version": "3.10.10"
  }
 },
 "nbformat": 4,
 "nbformat_minor": 4
}
